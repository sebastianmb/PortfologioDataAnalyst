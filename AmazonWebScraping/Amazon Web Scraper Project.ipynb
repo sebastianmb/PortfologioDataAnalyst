{
 "cells": [
  {
   "cell_type": "code",
   "execution_count": 27,
   "id": "39cf58b7-3d02-4af8-a125-03ce92b100be",
   "metadata": {},
   "outputs": [],
   "source": [
    "#Imports\n",
    "from bs4 import BeautifulSoup \n",
    "import requests\n",
    "import smtplib\n",
    "import time\n",
    "import datetime"
   ]
  },
  {
   "cell_type": "code",
   "execution_count": 28,
   "id": "1e96c15d-4d38-4b5e-b30b-24ff5b75c2bd",
   "metadata": {},
   "outputs": [
    {
     "name": "stdout",
     "output_type": "stream",
     "text": [
      "\n",
      "                     BOSS Men's Plain Short Sleeve Crewneck T-Shirt\n",
      "                    \n",
      "\n",
      "                         US$21.99\n",
      "                        \n"
     ]
    }
   ],
   "source": [
    "# Connect to website\n",
    "url='https://www.amazon.com/-/es/Camiseta-cuello-redondo-hombre-marino/dp/B07JLX15PV/ref=sr_1_23?__mk_es_US=%C3%85M%C3%85%C5%BD%C3%95%C3%91&keywords=tshir&sr=8-23'\n",
    "\n",
    "headers = {\"User-Agent\": \"Mozilla/5.0 (Windows NT 10.0; Win64; x64) AppleWebKit/537.36 (KHTML, like Gecko) Chrome/78.0.3904.108 Safari/537.36\", \"Accept-Encoding\":\"gzip, deflate\", \"Accept\":\"text/html,application/xhtml+xml,application/xml;q=0.9,*/*;q=0.8\", \"DNT\":\"1\",\"Connection\":\"close\", \"Upgrade-Insecure-Requests\":\"1\"}\n",
    "\n",
    "page = requests.get(url, headers=headers)\n",
    "\n",
    "soup1 = BeautifulSoup(page.content, \"html.parser\")\n",
    "\n",
    "soup2 = BeautifulSoup(soup1.prettify(), \"html.parser\")\n",
    "\n",
    "title = soup2.find(id='productTitle').get_text()\n",
    "\n",
    "price = soup2.find(class_='a-offscreen').get_text()\n",
    "\n",
    "\n",
    "print(title)\n",
    "print(price)\n",
    "\n"
   ]
  },
  {
   "cell_type": "code",
   "execution_count": 29,
   "id": "92d78654-e8bd-48e0-aea3-2c3aa6ab2967",
   "metadata": {},
   "outputs": [
    {
     "name": "stdout",
     "output_type": "stream",
     "text": [
      "BOSS Men's Plain Short Sleeve Crewneck T-Shirt\n",
      "21.99\n"
     ]
    }
   ],
   "source": [
    "price = price.strip()[3:]\n",
    "title = title.strip()\n",
    "print(title)\n",
    "print(price)\n"
   ]
  },
  {
   "cell_type": "code",
   "execution_count": 34,
   "id": "cbd2e1f8-74c7-4bcd-8291-f833b69ce86b",
   "metadata": {},
   "outputs": [
    {
     "name": "stdout",
     "output_type": "stream",
     "text": [
      "2024-01-26\n"
     ]
    }
   ],
   "source": [
    "# Create a Timestamp for your output to track when data was collected\n",
    "\n",
    "import datetime\n",
    "\n",
    "today = datetime.date.today()\n",
    "\n",
    "print(today)"
   ]
  },
  {
   "cell_type": "code",
   "execution_count": 38,
   "id": "41ccd644-1c10-4391-aa71-8908148a7e60",
   "metadata": {},
   "outputs": [],
   "source": [
    "# Create CSV and write headers and data into the file\n",
    "\n",
    "import csv \n",
    "\n",
    "header = ['Title', 'Price', 'Date']\n",
    "data = [title, price, today]\n",
    "\n",
    "\n",
    "with open('AmazonWebScraperDataset.csv', 'w', newline='', encoding='UTF8') as f:\n",
    "    writer = csv.writer(f)\n",
    "    writer.writerow(header)\n",
    "    writer.writerow(data)"
   ]
  },
  {
   "cell_type": "code",
   "execution_count": 41,
   "id": "ae2628bb-e92d-431e-9314-4679108b0405",
   "metadata": {},
   "outputs": [
    {
     "name": "stdout",
     "output_type": "stream",
     "text": [
      "                                            Title  Price        Date\n",
      "0  BOSS Men's Plain Short Sleeve Crewneck T-Shirt  21.99  2024-01-26\n",
      "1  BOSS Men's Plain Short Sleeve Crewneck T-Shirt  21.99  2024-01-26\n"
     ]
    }
   ],
   "source": [
    "import pandas as pd\n",
    "\n",
    "df = pd.read_csv(r'C:\\Users\\User\\DataAnalyst\\PortfolioDataAnalyst\\AmazonWebScraping\\AmazonWebScraperDataset.csv')\n",
    "\n",
    "print(df)"
   ]
  },
  {
   "cell_type": "code",
   "execution_count": 40,
   "id": "a8cc15a8-9c73-4a60-a365-105292cbbe5c",
   "metadata": {},
   "outputs": [],
   "source": [
    "#Now we are appending data to the csv\n",
    "\n",
    "with open('AmazonWebScraperDataset.csv', 'a+', newline='', encoding='UTF8') as f:\n",
    "    writer = csv.writer(f)\n",
    "    writer.writerow(data)"
   ]
  },
  {
   "cell_type": "code",
   "execution_count": 46,
   "id": "fb0d8afc-0a18-4d6d-9c9a-45736ad77a27",
   "metadata": {},
   "outputs": [],
   "source": [
    "#Combine all of the above code into one function\n",
    "\n",
    "\n",
    "def check_price():\n",
    "    url='https://www.amazon.com/-/es/Camiseta-cuello-redondo-hombre-marino/dp/B07JLX15PV/ref=sr_1_23?__mk_es_US=%C3%85M%C3%85%C5%BD%C3%95%C3%91&keywords=tshir&sr=8-23'\n",
    "\n",
    "    headers = {\"User-Agent\": \"Mozilla/5.0 (Windows NT 10.0; Win64; x64) AppleWebKit/537.36 (KHTML, like Gecko) Chrome/78.0.3904.108 Safari/537.36\", \"Accept-Encoding\":\"gzip, deflate\", \"Accept\":\"text/html,application/xhtml+xml,application/xml;q=0.9,*/*;q=0.8\", \"DNT\":\"1\",\"Connection\":\"close\", \"Upgrade-Insecure-Requests\":\"1\"}\n",
    "\n",
    "    page = requests.get(url, headers=headers)\n",
    "\n",
    "    soup1 = BeautifulSoup(page.content, \"html.parser\")\n",
    "\n",
    "    soup2 = BeautifulSoup(soup1.prettify(), \"html.parser\")\n",
    "\n",
    "    title = soup2.find(id='productTitle').get_text()\n",
    "\n",
    "    price = soup2.find(class_='a-offscreen').get_text()\n",
    "\n",
    "    price = price.strip()[3:]\n",
    "    title = title.strip()\n",
    "\n",
    "    import datetime\n",
    "\n",
    "    today = datetime.date.today()\n",
    "    \n",
    "    import csv \n",
    "\n",
    "    header = ['Title', 'Price', 'Date']\n",
    "    data = [title, price, today]\n",
    "\n",
    "    with open('AmazonWebScraperDataset.csv', 'a+', newline='', encoding='UTF8') as f:\n",
    "        writer = csv.writer(f)\n",
    "        writer.writerow(data)"
   ]
  },
  {
   "cell_type": "code",
   "execution_count": null,
   "id": "a854e2db-49a0-4e0f-9d60-3c2a66718fa8",
   "metadata": {},
   "outputs": [],
   "source": [
    "# Runs check_price after a set time and inputs data into your CSV\n",
    "\n",
    "while(True):\n",
    "    check_price()\n",
    "    time.sleep(86400)"
   ]
  },
  {
   "cell_type": "code",
   "execution_count": 50,
   "id": "0280e3d5-8f79-4f72-9374-209bb89c27ae",
   "metadata": {},
   "outputs": [
    {
     "name": "stdout",
     "output_type": "stream",
     "text": [
      "                                             Title    Price        Date\n",
      "0   BOSS Men's Plain Short Sleeve Crewneck T-Shirt    21.99  2024-01-26\n",
      "1   BOSS Men's Plain Short Sleeve Crewneck T-Shirt    21.99  2024-01-26\n",
      "2   BOSS Men's Plain Short Sleeve Crewneck T-Shirt  S$21.99  2024-01-26\n",
      "3   BOSS Men's Plain Short Sleeve Crewneck T-Shirt  S$21.99  2024-01-26\n",
      "4   BOSS Men's Plain Short Sleeve Crewneck T-Shirt  S$21.99  2024-01-26\n",
      "5   BOSS Men's Plain Short Sleeve Crewneck T-Shirt  S$21.99  2024-01-26\n",
      "6   BOSS Men's Plain Short Sleeve Crewneck T-Shirt  S$21.99  2024-01-26\n",
      "7   BOSS Men's Plain Short Sleeve Crewneck T-Shirt  S$21.99  2024-01-26\n",
      "8   BOSS Men's Plain Short Sleeve Crewneck T-Shirt  S$21.99  2024-01-26\n",
      "9   BOSS Men's Plain Short Sleeve Crewneck T-Shirt  S$21.99  2024-01-26\n",
      "10  BOSS Men's Plain Short Sleeve Crewneck T-Shirt  S$21.99  2024-01-26\n",
      "11  BOSS Men's Plain Short Sleeve Crewneck T-Shirt  S$21.99  2024-01-26\n",
      "12  BOSS Men's Plain Short Sleeve Crewneck T-Shirt  S$21.99  2024-01-26\n",
      "13  BOSS Men's Plain Short Sleeve Crewneck T-Shirt  S$21.99  2024-01-26\n",
      "14  BOSS Men's Plain Short Sleeve Crewneck T-Shirt  S$21.99  2024-01-26\n",
      "15  BOSS Men's Plain Short Sleeve Crewneck T-Shirt    21.99  2024-01-26\n",
      "16  BOSS Men's Plain Short Sleeve Crewneck T-Shirt    21.99  2024-01-26\n",
      "17  BOSS Men's Plain Short Sleeve Crewneck T-Shirt    21.99  2024-01-26\n",
      "18  BOSS Men's Plain Short Sleeve Crewneck T-Shirt    21.99  2024-01-26\n",
      "19  BOSS Men's Plain Short Sleeve Crewneck T-Shirt    21.99  2024-01-26\n",
      "20  BOSS Men's Plain Short Sleeve Crewneck T-Shirt    21.99  2024-01-26\n",
      "21  BOSS Men's Plain Short Sleeve Crewneck T-Shirt    21.99  2024-01-26\n",
      "22  BOSS Men's Plain Short Sleeve Crewneck T-Shirt    21.99  2024-01-26\n",
      "23  BOSS Men's Plain Short Sleeve Crewneck T-Shirt    21.99  2024-01-26\n",
      "24  BOSS Men's Plain Short Sleeve Crewneck T-Shirt    21.99  2024-01-26\n",
      "25  BOSS Men's Plain Short Sleeve Crewneck T-Shirt    21.99  2024-01-26\n",
      "26  BOSS Men's Plain Short Sleeve Crewneck T-Shirt    21.99  2024-01-26\n",
      "27  BOSS Men's Plain Short Sleeve Crewneck T-Shirt    21.99  2024-01-26\n",
      "28  BOSS Men's Plain Short Sleeve Crewneck T-Shirt    21.99  2024-01-26\n",
      "29  BOSS Men's Plain Short Sleeve Crewneck T-Shirt    21.99  2024-01-26\n",
      "30  BOSS Men's Plain Short Sleeve Crewneck T-Shirt    21.99  2024-01-26\n",
      "31  BOSS Men's Plain Short Sleeve Crewneck T-Shirt    21.99  2024-01-26\n",
      "32  BOSS Men's Plain Short Sleeve Crewneck T-Shirt    21.99  2024-01-26\n",
      "33  BOSS Men's Plain Short Sleeve Crewneck T-Shirt    21.99  2024-01-26\n",
      "34  BOSS Men's Plain Short Sleeve Crewneck T-Shirt    21.99  2024-01-26\n",
      "35  BOSS Men's Plain Short Sleeve Crewneck T-Shirt    21.99  2024-01-26\n",
      "36  BOSS Men's Plain Short Sleeve Crewneck T-Shirt    21.99  2024-01-26\n",
      "37  BOSS Men's Plain Short Sleeve Crewneck T-Shirt    21.99  2024-01-26\n",
      "38  BOSS Men's Plain Short Sleeve Crewneck T-Shirt    21.99  2024-01-26\n",
      "39  BOSS Men's Plain Short Sleeve Crewneck T-Shirt    21.99  2024-01-26\n",
      "40  BOSS Men's Plain Short Sleeve Crewneck T-Shirt    21.99  2024-01-26\n",
      "41  BOSS Men's Plain Short Sleeve Crewneck T-Shirt    21.99  2024-01-26\n",
      "42  BOSS Men's Plain Short Sleeve Crewneck T-Shirt    21.99  2024-01-26\n",
      "43  BOSS Men's Plain Short Sleeve Crewneck T-Shirt    21.99  2024-01-26\n"
     ]
    }
   ],
   "source": [
    "import pandas as pd\n",
    "\n",
    "df = pd.read_csv(r'C:\\Users\\User\\DataAnalyst\\PortfolioDataAnalyst\\AmazonWebScraping\\AmazonWebScraperDataset.csv')\n",
    "\n",
    "print(df)"
   ]
  },
  {
   "cell_type": "code",
   "execution_count": null,
   "id": "80a26da1-94ac-4da5-907d-13c2ccb9c609",
   "metadata": {},
   "outputs": [],
   "source": []
  }
 ],
 "metadata": {
  "kernelspec": {
   "display_name": "Python 3 (ipykernel)",
   "language": "python",
   "name": "python3"
  },
  "language_info": {
   "codemirror_mode": {
    "name": "ipython",
    "version": 3
   },
   "file_extension": ".py",
   "mimetype": "text/x-python",
   "name": "python",
   "nbconvert_exporter": "python",
   "pygments_lexer": "ipython3",
   "version": "3.10.7"
  }
 },
 "nbformat": 4,
 "nbformat_minor": 5
}
